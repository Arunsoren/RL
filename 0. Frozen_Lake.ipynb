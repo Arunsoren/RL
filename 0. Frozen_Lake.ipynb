{
 "cells": [
  {
   "cell_type": "code",
   "execution_count": 1,
   "metadata": {},
   "outputs": [],
   "source": [
    "import numpy as np\n",
    "import gym\n",
    "import random\n",
    "import time\n",
    "from IPython.display import clear_output"
   ]
  },
  {
   "cell_type": "code",
   "execution_count": 2,
   "metadata": {},
   "outputs": [],
   "source": [
    "env = gym.make(\"FrozenLake-v0\")"
   ]
  },
  {
   "cell_type": "code",
   "execution_count": 3,
   "metadata": {},
   "outputs": [
    {
     "name": "stdout",
     "output_type": "stream",
     "text": [
      "[[0. 0. 0. 0.]\n",
      " [0. 0. 0. 0.]\n",
      " [0. 0. 0. 0.]\n",
      " [0. 0. 0. 0.]\n",
      " [0. 0. 0. 0.]\n",
      " [0. 0. 0. 0.]\n",
      " [0. 0. 0. 0.]\n",
      " [0. 0. 0. 0.]\n",
      " [0. 0. 0. 0.]\n",
      " [0. 0. 0. 0.]\n",
      " [0. 0. 0. 0.]\n",
      " [0. 0. 0. 0.]\n",
      " [0. 0. 0. 0.]\n",
      " [0. 0. 0. 0.]\n",
      " [0. 0. 0. 0.]\n",
      " [0. 0. 0. 0.]]\n"
     ]
    }
   ],
   "source": [
    "#make Qtable initialize to 0\n",
    "action_space_size = env.action_space.n\n",
    "state_space_size = env.observation_space.n\n",
    "\n",
    "q_table =np.zeros((state_space_size, action_space_size))\n",
    "print(q_table)"
   ]
  },
  {
   "cell_type": "code",
   "execution_count": 4,
   "metadata": {},
   "outputs": [],
   "source": [
    "num_episodes = 10000\n",
    "max_steps_per_episode = 100\n",
    "\n",
    "learning_rate = 0.1           # alpha\n",
    "discount_rate = 0.99          # gamma  \n",
    "\n",
    "exploration_rate =1\n",
    "max_exploration_rate =1\n",
    "min_exploration_rate =0.01\n",
    "exploration_decay_rate =0.001"
   ]
  },
  {
   "cell_type": "code",
   "execution_count": 5,
   "metadata": {},
   "outputs": [
    {
     "name": "stdout",
     "output_type": "stream",
     "text": [
      "average reward per thousand episodes\n",
      "1000 : 0.035000000000000024\n",
      "2000 : 0.20300000000000015\n",
      "3000 : 0.4130000000000003\n",
      "4000 : 0.5630000000000004\n",
      "5000 : 0.6210000000000004\n",
      "6000 : 0.6910000000000005\n",
      "7000 : 0.6760000000000005\n",
      "8000 : 0.7020000000000005\n",
      "9000 : 0.6690000000000005\n",
      "10000 : 0.6760000000000005\n",
      "Q Table\n",
      "[[0.52290172 0.49670449 0.49201881 0.49346407]\n",
      " [0.36759781 0.35088506 0.3380352  0.49375874]\n",
      " [0.425009   0.41776584 0.38062242 0.46307708]\n",
      " [0.2870017  0.32788797 0.19032834 0.4442261 ]\n",
      " [0.53454981 0.39058064 0.411208   0.40663005]\n",
      " [0.         0.         0.         0.        ]\n",
      " [0.33043902 0.16990506 0.20269446 0.13805816]\n",
      " [0.         0.         0.         0.        ]\n",
      " [0.44873435 0.38033526 0.44699696 0.56035592]\n",
      " [0.46850913 0.6049868  0.4671621  0.35144466]\n",
      " [0.54347628 0.45570837 0.37904298 0.34778377]\n",
      " [0.         0.         0.         0.        ]\n",
      " [0.         0.         0.         0.        ]\n",
      " [0.41715834 0.64119213 0.70237998 0.49631991]\n",
      " [0.69193784 0.82392659 0.73075335 0.73146905]\n",
      " [0.         0.         0.         0.        ]]\n"
     ]
    }
   ],
   "source": [
    "rewards_all_episodes =[]\n",
    "\n",
    "#Q learning algo\n",
    "for episode in range(num_episodes):            #no of episodes \n",
    "    state = env.reset()                        #resetting every env\n",
    "    done = False\n",
    "    rewards_current_episode = 0\n",
    "    for step in range(max_steps_per_episode):  #timesteps in same episode\n",
    "        \n",
    "        #exploration-exploitaion trade off\n",
    "        exploration_rate_threshold = random.uniform(0, 1)\n",
    "        if exploration_rate_threshold > exploration_rate:\n",
    "            action = np.argmax(q_table[state,:]) #exploit the env\n",
    "        else:\n",
    "            action =env.action_space.sample()   #explore the env\n",
    "            \n",
    "        new_state, reward, done, info = env.step(action)#taking the action for explore or exploit\n",
    "        \n",
    "        #Updating Q table for new q value Q(s,a)\n",
    "        q_table[state, action] = q_table[state, action]*(1-learning_rate)+ learning_rate * (reward + discount_rate  * np.max(q_table[new_state,:])) #old Q value+learned value\n",
    "                                 \n",
    "        state = new_state\n",
    "        rewards_current_episode+= reward\n",
    "        \n",
    "        if done==True:\n",
    "            break    \n",
    "        \n",
    "    #exploartion rate decay       \n",
    "    exploration_rate = min_exploration_rate + (max_exploration_rate - min_exploration_rate) * np.exp(-exploration_decay_rate*episode)\n",
    "    rewards_all_episodes.append(rewards_current_episode)  \n",
    "    \n",
    "#Average rewards per thousand episodes\n",
    "rewards_per_thousand_episodes = np.split(np.array(rewards_all_episodes),num_episodes/1000)\n",
    "count = 1000\n",
    "print(\"average reward per thousand episodes\")\n",
    "for r in rewards_per_thousand_episodes:\n",
    "    print(count, \":\",str(sum(r/1000)))\n",
    "    count+= 1000\n",
    "    \n",
    "#print updated Qtable\n",
    "print(\"Q Table\")\n",
    "print(q_table)"
   ]
  },
  {
   "cell_type": "code",
   "execution_count": 7,
   "metadata": {},
   "outputs": [
    {
     "name": "stdout",
     "output_type": "stream",
     "text": [
      "  (Down)\n",
      "SFFF\n",
      "FHFH\n",
      "FFFH\n",
      "HFF\u001b[41mG\u001b[0m\n",
      "***Goal REACHED***\n"
     ]
    }
   ],
   "source": [
    "for episode in range(5):\n",
    "    state = env.reset()\n",
    "    done = False\n",
    "    print(\"EPISODE\",episode+1,\"\\n\\n\")\n",
    "    time.sleep(1)\n",
    "    \n",
    "    for step in range(max_steps_per_episode):\n",
    "        clear_output(wait=True)\n",
    "        env.render()      #render the grid and the agent position\n",
    "        time.sleep(0.3)\n",
    "        \n",
    "        action = np.argmax(q_table[state,:]) #highest q_value to take for next state\n",
    "        new_state, reward, done, info =env.step(action)\n",
    "        \n",
    "        if done:\n",
    "            clear_output(wait=True)\n",
    "            env.render()\n",
    "            if reward==1:\n",
    "                print(\"***Goal REACHED***\")\n",
    "                time.sleep(3)\n",
    "            else:\n",
    "                print(\"***u fell in the hole***\")\n",
    "                time.sleep(3)\n",
    "            clear_output(wait=True)\n",
    "            break\n",
    "        state = new_state\n",
    "        \n",
    "env.close()        "
   ]
  },
  {
   "cell_type": "code",
   "execution_count": null,
   "metadata": {},
   "outputs": [],
   "source": []
  },
  {
   "cell_type": "code",
   "execution_count": null,
   "metadata": {},
   "outputs": [],
   "source": []
  },
  {
   "cell_type": "code",
   "execution_count": null,
   "metadata": {},
   "outputs": [],
   "source": []
  },
  {
   "cell_type": "code",
   "execution_count": null,
   "metadata": {},
   "outputs": [],
   "source": []
  }
 ],
 "metadata": {
  "kernelspec": {
   "display_name": "Python 3",
   "language": "python",
   "name": "python3"
  },
  "language_info": {
   "codemirror_mode": {
    "name": "ipython",
    "version": 3
   },
   "file_extension": ".py",
   "mimetype": "text/x-python",
   "name": "python",
   "nbconvert_exporter": "python",
   "pygments_lexer": "ipython3",
   "version": "3.6.2"
  }
 },
 "nbformat": 4,
 "nbformat_minor": 2
}
